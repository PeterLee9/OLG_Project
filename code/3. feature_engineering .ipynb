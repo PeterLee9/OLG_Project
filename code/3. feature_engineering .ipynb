{
 "cells": [
  {
   "cell_type": "code",
   "execution_count": 9,
   "id": "a481ed71",
   "metadata": {},
   "outputs": [],
   "source": [
    "import pandas as pd\n",
    "pd.set_option('display.max_columns', None)\n",
    "pd.set_option('display.max_rows', 200)\n",
    "import numpy as np\n",
    "from sklearn.preprocessing import OneHotEncoder, StandardScaler\n",
    "from sklearn.model_selection import train_test_split\n",
    "import matplotlib.pyplot as plt\n",
    "%matplotlib inline"
   ]
  },
  {
   "cell_type": "code",
   "execution_count": 8,
   "id": "df7ebfd6",
   "metadata": {},
   "outputs": [],
   "source": [
    "df_1 = pd.read_csv(\"../data/processed/df_1.csv\", index_col=0)\n",
    "df_2 = pd.read_csv(\"../data/processed/df_2.csv\", index_col=0)\n",
    "df_3 = pd.read_csv(\"../data/processed/df_3.csv\", index_col=0)\n",
    "df_4 = pd.read_csv(\"../data/processed/df_4.csv\", index_col=0)"
   ]
  },
  {
   "cell_type": "code",
   "execution_count": null,
   "id": "2ccb7229",
   "metadata": {},
   "outputs": [],
   "source": [
    "# normalize the variables\n",
    "sc = StandardScaler()\n",
    "df_1.iloc[:,6:] = sc.fit_transform(df_1.iloc[:,6:])\n",
    "sc = StandardScaler()\n",
    "df_2.iloc[:,6:] = sc.fit_transform(df_2.iloc[:,6:])\n",
    "sc = StandardScaler()\n",
    "df_3.iloc[:,6:] = sc.fit_transform(df_3.iloc[:,6:])\n",
    "sc = StandardScaler()\n",
    "df_4.iloc[:,6:] = sc.fit_transform(df_4.iloc[:,6:])\n",
    "\n",
    "# df_1.iloc[:,6:] = df_1.iloc[:,6:] / df_1.iloc[:,6:].max()\n",
    "# df_2.iloc[:,6:] = df_2.iloc[:,6:] / df_2.iloc[:,6:].max()\n",
    "# df_3.iloc[:,6:] = df_3.iloc[:,6:] / df_3.iloc[:,6:].max()\n",
    "# df_4.iloc[:,6:] = df_4.iloc[:,6:] / df_4.iloc[:,6:].max()"
   ]
  },
  {
   "cell_type": "code",
   "execution_count": null,
   "id": "83395ea1",
   "metadata": {},
   "outputs": [],
   "source": [
    "# drop the years in the period, only leaving Quarter, and one-hot encode\n",
    "def classify_quarter(df):\n",
    "    if \"Period\" in df.columns:\n",
    "        onehotenc = OneHotEncoder(drop='first').fit(np.array(['1', '2', '3', '4']).reshape(-1, 1))\n",
    "        df.loc[:,[\"Quarter2\", \"Quarter3\", \"Quarter4\"]] = onehotenc.transform(\n",
    "            df[\"Period\"].apply(lambda x: x[-1]).to_numpy().reshape(-1, 1)\n",
    "        ).toarray()\n",
    "    \n",
    "classify_quarter(df_1)\n",
    "classify_quarter(df_2)\n",
    "classify_quarter(df_3)\n",
    "classify_quarter(df_4)"
   ]
  },
  {
   "cell_type": "code",
   "execution_count": null,
   "id": "2655ee03",
   "metadata": {},
   "outputs": [],
   "source": [
    "# one-hot encode BR Code\n",
    "def classify_br_code(df):\n",
    "    if \"BR Code\" in df.columns:\n",
    "        categories = df[\"BR Code\"].unique()\n",
    "        categories.sort()\n",
    "        onehotenc = OneHotEncoder(drop='first').fit(categories.reshape(-1, 1))\n",
    "        df.loc[:,[f\"BR Code {c}\" for c in categories[1:]]] = onehotenc.transform(\n",
    "            df[\"BR Code\"].to_numpy().reshape(-1, 1)\n",
    "        ).toarray()\n",
    "    \n",
    "classify_br_code(df_1)\n",
    "classify_br_code(df_2)\n",
    "classify_br_code(df_3)\n",
    "classify_br_code(df_4)"
   ]
  },
  {
   "cell_type": "code",
   "execution_count": null,
   "id": "23a71a55",
   "metadata": {},
   "outputs": [],
   "source": [
    "# one-hot encode Country Code\n",
    "def classify_country_code(df):\n",
    "    if \"Country_Code\" in df.columns:\n",
    "        categories = df[\"Country_Code\"].unique()\n",
    "        categories.sort()\n",
    "        onehotenc = OneHotEncoder(drop='first').fit(categories.reshape(-1, 1))\n",
    "        df.loc[:,[f\"Country_Code_{c}\" for c in categories[1:]]] = onehotenc.transform(\n",
    "            df[\"Country_Code\"].to_numpy().reshape(-1, 1)\n",
    "        ).toarray()\n",
    "    \n",
    "classify_country_code(df_1)\n",
    "classify_country_code(df_2)\n",
    "classify_country_code(df_3)\n",
    "classify_country_code(df_4)"
   ]
  },
  {
   "cell_type": "code",
   "execution_count": null,
   "id": "e6f9f105",
   "metadata": {},
   "outputs": [],
   "source": [
    "# remove encoded and useless columns\n",
    "df_1 = df_1.drop(columns=[\"Country_Code\", \"BR Code\", \"Period\", \"Client\"])\n",
    "df_2 = df_2.drop(columns=[\"Country_Code\", \"BR Code\", \"Period\", \"Client\"])\n",
    "df_3 = df_3.drop(columns=[\"Country_Code\", \"BR Code\", \"Period\", \"Client\"])\n",
    "df_4 = df_4.drop(columns=[\"Country_Code\", \"BR Code\", \"Period\", \"Client\"])"
   ]
  },
  {
   "cell_type": "code",
   "execution_count": null,
   "id": "bd48d8e7",
   "metadata": {},
   "outputs": [],
   "source": [
    "def plot_cont_var_dist(df):\n",
    "    cols = list(filter(lambda x: x.startswith(\"Variable\"), df.columns))\n",
    "    fig, axs = plt.subplot()\n",
    "    for col in "
   ]
  },
  {
   "cell_type": "code",
   "execution_count": null,
   "id": "d371410f",
   "metadata": {},
   "outputs": [],
   "source": []
  },
  {
   "cell_type": "code",
   "execution_count": null,
   "id": "cd5c418f",
   "metadata": {},
   "outputs": [],
   "source": []
  },
  {
   "cell_type": "code",
   "execution_count": null,
   "id": "62df58f3",
   "metadata": {},
   "outputs": [],
   "source": []
  },
  {
   "cell_type": "code",
   "execution_count": null,
   "id": "358e6a42",
   "metadata": {},
   "outputs": [],
   "source": []
  },
  {
   "cell_type": "code",
   "execution_count": null,
   "id": "7748efe9",
   "metadata": {},
   "outputs": [],
   "source": []
  },
  {
   "cell_type": "code",
   "execution_count": null,
   "id": "b01579f0",
   "metadata": {},
   "outputs": [],
   "source": []
  },
  {
   "cell_type": "code",
   "execution_count": null,
   "id": "51a52d33",
   "metadata": {},
   "outputs": [],
   "source": []
  }
 ],
 "metadata": {
  "kernelspec": {
   "display_name": "Python [conda env:OLG_Project]",
   "language": "python",
   "name": "conda-env-OLG_Project-py"
  },
  "language_info": {
   "codemirror_mode": {
    "name": "ipython",
    "version": 3
   },
   "file_extension": ".py",
   "mimetype": "text/x-python",
   "name": "python",
   "nbconvert_exporter": "python",
   "pygments_lexer": "ipython3",
   "version": "3.10.4"
  }
 },
 "nbformat": 4,
 "nbformat_minor": 5
}
