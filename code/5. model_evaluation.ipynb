{
 "cells": [
  {
   "cell_type": "code",
   "execution_count": 1,
   "id": "61333ac2",
   "metadata": {},
   "outputs": [],
   "source": [
    "import pandas as pd\n",
    "\n",
    "from sklearn.ensemble import RandomForestClassifier\n",
    "from sklearn.metrics import precision_score, recall_score, f1_score\n",
    "from xgboost import XGBClassifier\n",
    "from joblib import load"
   ]
  },
  {
   "cell_type": "code",
   "execution_count": 2,
   "id": "17753938",
   "metadata": {},
   "outputs": [],
   "source": [
    "# read in testing dataset and extract the features and outcome\n",
    "df_test = pd.read_csv(\"../data/processed/df_test_final.csv\", index_col=0)\n",
    "X_test = df_test.iloc[:,2:]\n",
    "y_test = df_test.iloc[:,0]"
   ]
  },
  {
   "cell_type": "code",
   "execution_count": 3,
   "id": "a355c928",
   "metadata": {},
   "outputs": [],
   "source": [
    "# load the tuned models\n",
    "xgb_clf = XGBClassifier()\n",
    "xgb_clf.load_model(\"../models/xgb.json\")\n",
    "\n",
    "rf_clf = load(\"../models/rf.joblib\")"
   ]
  },
  {
   "cell_type": "code",
   "execution_count": 4,
   "id": "6fc571c5",
   "metadata": {},
   "outputs": [],
   "source": [
    "# function for evalutating the models with f1 score\n",
    "def evaluate(model):\n",
    "    y_pred = model.predict(X_test)\n",
    "    precision = precision_score(y_test, y_pred, average='micro')\n",
    "    recall = recall_score(y_test, y_pred, average='micro')\n",
    "    f1 = f1_score(y_test, y_pred, average='micro')\n",
    "    print(f\"precision score: {precision:.4f}, recall score: {recall:.4f}, f1 score: {f1:.4f}\")"
   ]
  },
  {
   "cell_type": "code",
   "execution_count": 5,
   "id": "961e258c",
   "metadata": {},
   "outputs": [
    {
     "name": "stdout",
     "output_type": "stream",
     "text": [
      "precision score: 0.2271, recall score: 0.2271, f1 score: 0.2271\n"
     ]
    }
   ],
   "source": [
    "# random forest\n",
    "evaluate(rf_clf)"
   ]
  },
  {
   "cell_type": "code",
   "execution_count": 6,
   "id": "c1f1dd15",
   "metadata": {},
   "outputs": [
    {
     "name": "stdout",
     "output_type": "stream",
     "text": [
      "precision score: 0.2278, recall score: 0.2278, f1 score: 0.2278\n"
     ]
    }
   ],
   "source": [
    "# gradient boosting\n",
    "evaluate(xgb_clf)"
   ]
  },
  {
   "cell_type": "code",
   "execution_count": null,
   "id": "8af3e946",
   "metadata": {},
   "outputs": [],
   "source": []
  }
 ],
 "metadata": {
  "kernelspec": {
   "display_name": "Python 3 (ipykernel)",
   "language": "python",
   "name": "python3"
  },
  "language_info": {
   "codemirror_mode": {
    "name": "ipython",
    "version": 3
   },
   "file_extension": ".py",
   "mimetype": "text/x-python",
   "name": "python",
   "nbconvert_exporter": "python",
   "pygments_lexer": "ipython3",
   "version": "3.9.13"
  }
 },
 "nbformat": 4,
 "nbformat_minor": 5
}
